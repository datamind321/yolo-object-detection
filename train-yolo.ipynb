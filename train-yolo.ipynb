{
 "cells": [
  {
   "cell_type": "markdown",
   "id": "22b03969",
   "metadata": {},
   "source": [
    "##              ***Object Detection Course***"
   ]
  },
  {
   "attachments": {
    "download.png": {
     "image/png": "[encoded data removed]"
    }
   },
   "cell_type": "markdown",
   "id": "37b89fe9",
   "metadata": {},
   "source": [
    "![download.png](attachment:download.png)"
   ]
  },
  {
   "cell_type": "markdown",
   "id": "fb08e44d",
   "metadata": {},
   "source": [
    "## YOLO MODEL TEST ON IMAGES"
   ]
  },
  {
   "cell_type": "code",
   "execution_count": 1,
   "id": "b90b7b2c",
   "metadata": {
    "scrolled": true
   },
   "outputs": [
    {
     "name": "stderr",
     "output_type": "stream",
     "text": [
      "\n",
      "image 1/1 C:\\Users\\rajsi\\testimages\\3.png: 384x640 15 cars, 8 motorcycles, 165.0ms\n",
      "Speed: 3.0ms preprocess, 165.0ms inference, 12.5ms postprocess per image at shape (1, 3, 384, 640)\n"
     ]
    }
   ],
   "source": [
    "from ultralytics import YOLO\n",
    "import cv2\n",
    "\n",
    "model = YOLO('yolov8n.pt')\n",
    "results = model('testimages/3.png',show=True)\n",
    "cv2.waitKey(0)\n",
    "cv2.destroyAllWindows()  "
   ]
  },
  {
   "cell_type": "markdown",
   "id": "27fb8602",
   "metadata": {},
   "source": [
    "## YOLO MODEL TEST ON LIVE WEBCAM"
   ]
  },
  {
   "cell_type": "code",
   "execution_count": null,
   "id": "661a34c0",
   "metadata": {
    "scrolled": false
   },
   "outputs": [],
   "source": [
    "import cv2\n",
    "from ultralytics import YOLO\n",
    "import cvzone\n",
    "import math\n",
    "\n",
    "vid = cv2.VideoCapture(0)\n",
    "\n",
    "model = YOLO('yolov8n.pt')\n",
    "\n",
    "classNames = [\"person\", \"bicycle\", \"car\", \"motorbike\", \"aeroplane\", \"bus\", \"train\", \"truck\", \"boat\",\n",
    "              \"traffic light\", \"fire hydrant\", \"stop sign\", \"parking meter\", \"bench\", \"bird\", \"cat\",\n",
    "              \"dog\", \"horse\", \"sheep\", \"cow\", \"elephant\", \"bear\", \"zebra\", \"giraffe\", \"backpack\", \"umbrella\",\n",
    "              \"handbag\", \"tie\", \"suitcase\", \"frisbee\", \"skis\", \"snowboard\", \"sports ball\", \"kite\", \"baseball bat\",\n",
    "              \"baseball glove\", \"skateboard\", \"surfboard\", \"tennis racket\", \"bottle\", \"wine glass\", \"cup\",\n",
    "              \"fork\", \"knife\", \"spoon\", \"bowl\", \"banana\", \"apple\", \"sandwich\", \"orange\", \"broccoli\",\n",
    "              \"carrot\", \"hot dog\", \"pizza\", \"donut\", \"cake\", \"chair\", \"sofa\", \"pottedplant\", \"bed\",\n",
    "              \"diningtable\", \"toilet\", \"tvmonitor\", \"laptop\", \"mouse\", \"remote\", \"keyboard\", \"cell phone\",\n",
    "              \"microwave\", \"oven\", \"toaster\", \"sink\", \"refrigerator\", \"book\", \"clock\", \"vase\", \"scissors\",\n",
    "              \"teddy bear\", \"hair drier\", \"toothbrush\"\n",
    "              ]\n",
    "  \n",
    "while(True):\n",
    "  \n",
    "    ret, frame = vid.read()\n",
    "    result=model(frame,show=True)\n",
    "    for r in result:\n",
    "        boxes=r.boxes\n",
    "        for box in boxes:\n",
    "            (x1,y1,x2,y2)=box.xyxy[0]\n",
    "            x1,y1,x2,y2=int(x1),int(y1),int(x2),int(y2)\n",
    "            w,h=x2-x1,y2-y1\n",
    "            cvzone.cornerRect(frame,(x1,y1,w,h))\n",
    "            conf=math.ceil((box.conf[0]*100))/100\n",
    "            print(conf)\n",
    "            cls=box.cls[0]\n",
    "            cvzone.putTextRect(frame,f'{cls} {conf}',(max(0,x1),max(35,y1)))\n",
    "            \n",
    "            \n",
    "            \n",
    "   \n",
    "    cv2.imshow('frame', frame)\n",
    "    \n",
    "   \n",
    "    if cv2.waitKey(1) & 0xFF == ord('q'):\n",
    "        break\n",
    "\n",
    "vid.release()\n",
    "\n",
    "cv2.destroyAllWindows()   "
   ]
  }
 ],
 "metadata": {
  "kernelspec": {
   "display_name": "Python 3 (ipykernel)",
   "language": "python",
   "name": "python3"
  },
  "language_info": {
   "codemirror_mode": {
    "name": "ipython",
    "version": 3
   },
   "file_extension": ".py",
   "mimetype": "text/x-python",
   "name": "python",
   "nbconvert_exporter": "python",
   "pygments_lexer": "ipython3",
   "version": "3.11.3"
  }
 },
 "nbformat": 4,
 "nbformat_minor": 5
}
